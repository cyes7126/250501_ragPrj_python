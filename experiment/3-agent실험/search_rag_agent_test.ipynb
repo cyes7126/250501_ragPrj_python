{
 "nbformat": 4,
 "nbformat_minor": 0,
 "metadata": {
  "colab": {
   "provenance": []
  },
  "kernelspec": {
   "name": "python3",
   "display_name": "Python 3"
  },
  "language_info": {
   "name": "python"
  }
 },
 "cells": [
  {
   "cell_type": "code",
   "execution_count": null,
   "metadata": {
    "colab": {
     "base_uri": "https://localhost:8080/"
    },
    "id": "AySp1S8VVF9p",
    "outputId": "dda16d5d-2b32-4fb5-9eb1-a73fde5bd5c3"
   },
   "outputs": [
    {
     "output_type": "stream",
     "name": "stdout",
     "text": [
      "Collecting langchain-tavily\n",
      "  Downloading langchain_tavily-0.1.6-py3-none-any.whl.metadata (11 kB)\n",
      "Requirement already satisfied: aiohttp<4.0.0,>=3.11.14 in /usr/local/lib/python3.11/dist-packages (from langchain-tavily) (3.11.15)\n",
      "Requirement already satisfied: langchain<0.4.0,>=0.3.20 in /usr/local/lib/python3.11/dist-packages (from langchain-tavily) (0.3.25)\n",
      "Requirement already satisfied: langchain-core<0.4.0,>=0.3.15 in /usr/local/lib/python3.11/dist-packages (from langchain-tavily) (0.3.59)\n",
      "Collecting mypy<2.0.0,>=1.15.0 (from langchain-tavily)\n",
      "  Downloading mypy-1.15.0-cp311-cp311-manylinux_2_17_x86_64.manylinux2014_x86_64.manylinux_2_28_x86_64.whl.metadata (2.1 kB)\n",
      "Requirement already satisfied: requests<3.0.0,>=2.32.3 in /usr/local/lib/python3.11/dist-packages (from langchain-tavily) (2.32.3)\n",
      "Requirement already satisfied: aiohappyeyeballs>=2.3.0 in /usr/local/lib/python3.11/dist-packages (from aiohttp<4.0.0,>=3.11.14->langchain-tavily) (2.6.1)\n",
      "Requirement already satisfied: aiosignal>=1.1.2 in /usr/local/lib/python3.11/dist-packages (from aiohttp<4.0.0,>=3.11.14->langchain-tavily) (1.3.2)\n",
      "Requirement already satisfied: attrs>=17.3.0 in /usr/local/lib/python3.11/dist-packages (from aiohttp<4.0.0,>=3.11.14->langchain-tavily) (25.3.0)\n",
      "Requirement already satisfied: frozenlist>=1.1.1 in /usr/local/lib/python3.11/dist-packages (from aiohttp<4.0.0,>=3.11.14->langchain-tavily) (1.6.0)\n",
      "Requirement already satisfied: multidict<7.0,>=4.5 in /usr/local/lib/python3.11/dist-packages (from aiohttp<4.0.0,>=3.11.14->langchain-tavily) (6.4.3)\n",
      "Requirement already satisfied: propcache>=0.2.0 in /usr/local/lib/python3.11/dist-packages (from aiohttp<4.0.0,>=3.11.14->langchain-tavily) (0.3.1)\n",
      "Requirement already satisfied: yarl<2.0,>=1.17.0 in /usr/local/lib/python3.11/dist-packages (from aiohttp<4.0.0,>=3.11.14->langchain-tavily) (1.20.0)\n",
      "Requirement already satisfied: langchain-text-splitters<1.0.0,>=0.3.8 in /usr/local/lib/python3.11/dist-packages (from langchain<0.4.0,>=0.3.20->langchain-tavily) (0.3.8)\n",
      "Requirement already satisfied: langsmith<0.4,>=0.1.17 in /usr/local/lib/python3.11/dist-packages (from langchain<0.4.0,>=0.3.20->langchain-tavily) (0.3.42)\n",
      "Requirement already satisfied: pydantic<3.0.0,>=2.7.4 in /usr/local/lib/python3.11/dist-packages (from langchain<0.4.0,>=0.3.20->langchain-tavily) (2.11.4)\n",
      "Requirement already satisfied: SQLAlchemy<3,>=1.4 in /usr/local/lib/python3.11/dist-packages (from langchain<0.4.0,>=0.3.20->langchain-tavily) (2.0.40)\n",
      "Requirement already satisfied: PyYAML>=5.3 in /usr/local/lib/python3.11/dist-packages (from langchain<0.4.0,>=0.3.20->langchain-tavily) (6.0.2)\n",
      "Requirement already satisfied: tenacity!=8.4.0,<10.0.0,>=8.1.0 in /usr/local/lib/python3.11/dist-packages (from langchain-core<0.4.0,>=0.3.15->langchain-tavily) (9.1.2)\n",
      "Requirement already satisfied: jsonpatch<2.0,>=1.33 in /usr/local/lib/python3.11/dist-packages (from langchain-core<0.4.0,>=0.3.15->langchain-tavily) (1.33)\n",
      "Requirement already satisfied: packaging<25,>=23.2 in /usr/local/lib/python3.11/dist-packages (from langchain-core<0.4.0,>=0.3.15->langchain-tavily) (24.2)\n",
      "Requirement already satisfied: typing-extensions>=4.7 in /usr/local/lib/python3.11/dist-packages (from langchain-core<0.4.0,>=0.3.15->langchain-tavily) (4.13.2)\n",
      "Collecting mypy_extensions>=1.0.0 (from mypy<2.0.0,>=1.15.0->langchain-tavily)\n",
      "  Downloading mypy_extensions-1.1.0-py3-none-any.whl.metadata (1.1 kB)\n",
      "Requirement already satisfied: charset-normalizer<4,>=2 in /usr/local/lib/python3.11/dist-packages (from requests<3.0.0,>=2.32.3->langchain-tavily) (3.4.2)\n",
      "Requirement already satisfied: idna<4,>=2.5 in /usr/local/lib/python3.11/dist-packages (from requests<3.0.0,>=2.32.3->langchain-tavily) (3.10)\n",
      "Requirement already satisfied: urllib3<3,>=1.21.1 in /usr/local/lib/python3.11/dist-packages (from requests<3.0.0,>=2.32.3->langchain-tavily) (2.4.0)\n",
      "Requirement already satisfied: certifi>=2017.4.17 in /usr/local/lib/python3.11/dist-packages (from requests<3.0.0,>=2.32.3->langchain-tavily) (2025.4.26)\n",
      "Requirement already satisfied: jsonpointer>=1.9 in /usr/local/lib/python3.11/dist-packages (from jsonpatch<2.0,>=1.33->langchain-core<0.4.0,>=0.3.15->langchain-tavily) (3.0.0)\n",
      "Requirement already satisfied: httpx<1,>=0.23.0 in /usr/local/lib/python3.11/dist-packages (from langsmith<0.4,>=0.1.17->langchain<0.4.0,>=0.3.20->langchain-tavily) (0.28.1)\n",
      "Requirement already satisfied: orjson<4.0.0,>=3.9.14 in /usr/local/lib/python3.11/dist-packages (from langsmith<0.4,>=0.1.17->langchain<0.4.0,>=0.3.20->langchain-tavily) (3.10.18)\n",
      "Requirement already satisfied: requests-toolbelt<2.0.0,>=1.0.0 in /usr/local/lib/python3.11/dist-packages (from langsmith<0.4,>=0.1.17->langchain<0.4.0,>=0.3.20->langchain-tavily) (1.0.0)\n",
      "Requirement already satisfied: zstandard<0.24.0,>=0.23.0 in /usr/local/lib/python3.11/dist-packages (from langsmith<0.4,>=0.1.17->langchain<0.4.0,>=0.3.20->langchain-tavily) (0.23.0)\n",
      "Requirement already satisfied: annotated-types>=0.6.0 in /usr/local/lib/python3.11/dist-packages (from pydantic<3.0.0,>=2.7.4->langchain<0.4.0,>=0.3.20->langchain-tavily) (0.7.0)\n",
      "Requirement already satisfied: pydantic-core==2.33.2 in /usr/local/lib/python3.11/dist-packages (from pydantic<3.0.0,>=2.7.4->langchain<0.4.0,>=0.3.20->langchain-tavily) (2.33.2)\n",
      "Requirement already satisfied: typing-inspection>=0.4.0 in /usr/local/lib/python3.11/dist-packages (from pydantic<3.0.0,>=2.7.4->langchain<0.4.0,>=0.3.20->langchain-tavily) (0.4.0)\n",
      "Requirement already satisfied: greenlet>=1 in /usr/local/lib/python3.11/dist-packages (from SQLAlchemy<3,>=1.4->langchain<0.4.0,>=0.3.20->langchain-tavily) (3.2.2)\n",
      "Requirement already satisfied: anyio in /usr/local/lib/python3.11/dist-packages (from httpx<1,>=0.23.0->langsmith<0.4,>=0.1.17->langchain<0.4.0,>=0.3.20->langchain-tavily) (4.9.0)\n",
      "Requirement already satisfied: httpcore==1.* in /usr/local/lib/python3.11/dist-packages (from httpx<1,>=0.23.0->langsmith<0.4,>=0.1.17->langchain<0.4.0,>=0.3.20->langchain-tavily) (1.0.9)\n",
      "Requirement already satisfied: h11>=0.16 in /usr/local/lib/python3.11/dist-packages (from httpcore==1.*->httpx<1,>=0.23.0->langsmith<0.4,>=0.1.17->langchain<0.4.0,>=0.3.20->langchain-tavily) (0.16.0)\n",
      "Requirement already satisfied: sniffio>=1.1 in /usr/local/lib/python3.11/dist-packages (from anyio->httpx<1,>=0.23.0->langsmith<0.4,>=0.1.17->langchain<0.4.0,>=0.3.20->langchain-tavily) (1.3.1)\n",
      "Downloading langchain_tavily-0.1.6-py3-none-any.whl (14 kB)\n",
      "Downloading mypy-1.15.0-cp311-cp311-manylinux_2_17_x86_64.manylinux2014_x86_64.manylinux_2_28_x86_64.whl (12.3 MB)\n",
      "\u001B[2K   \u001B[90m━━━━━━━━━━━━━━━━━━━━━━━━━━━━━━━━━━━━━━━━\u001B[0m \u001B[32m12.3/12.3 MB\u001B[0m \u001B[31m47.3 MB/s\u001B[0m eta \u001B[36m0:00:00\u001B[0m\n",
      "\u001B[?25hDownloading mypy_extensions-1.1.0-py3-none-any.whl (5.0 kB)\n",
      "Installing collected packages: mypy_extensions, mypy, langchain-tavily\n"
     ]
    }
   ],
   "source": [
    "!pip install langchain-tavily\n",
    "!pip install langchain\n",
    "!pip install langchain_community\n",
    "!pip install langchain_core\n",
    "!pip install langchain_huggingface\n",
    "!pip install rank-bm25\n",
    "!pip install chromadb\n",
    "!pip install python-dotenv\n",
    "!pip install pypdf\n",
    "!pip install pymupdf\n",
    "!pip install langchain_openai"
   ]
  },
  {
   "cell_type": "code",
   "source": [
    "import os\n",
    "\n",
    "# 1. colab에서 실행할 경우)\n",
    "\n",
    "## 구글 드라이브 마운트\n",
    "from google.colab import drive\n",
    "drive.mount('/content/drive')\n",
    "base_path = '/content/drive/MyDrive/Projects'\n",
    "\n",
    "## 문서경로\n",
    "doc_path = f'{base_path}/rag최적화실험/documents/상해보험약관.pdf'\n",
    "env = f'{base_path}/comm/.env'"
   ],
   "metadata": {
    "id": "WQhRSiSfVPcB"
   },
   "execution_count": null,
   "outputs": []
  },
  {
   "metadata": {},
   "cell_type": "code",
   "outputs": [],
   "execution_count": null,
   "source": [
    "'''\n",
    "# 2. local에서 실행할 경우\n",
    "\n",
    "base_path = './'\n",
    "\n",
    "## 문서경로\n",
    "doc_path = f'{base_path}/documents/상해보험약관.pdf'\n",
    "env = f'{base_path}/../../comm/.env'\n",
    "'''"
   ]
  },
  {
   "cell_type": "code",
   "source": [
    "# env 설정\n",
    "from dotenv import load_dotenv\n",
    "load_dotenv(env)"
   ],
   "metadata": {
    "id": "Cw53MiDxVRe2"
   },
   "execution_count": null,
   "outputs": []
  },
  {
   "cell_type": "code",
   "source": [
    "# 문서 로드하기\n",
    "from langchain_community.document_loaders import PyMuPDFLoader\n",
    "\n",
    "def load_doc_file():\n",
    "  loader = PyMuPDFLoader(doc_path)\n",
    "  docs = loader.load()\n",
    "  return docs"
   ],
   "metadata": {
    "id": "lJOato5UVYtV"
   },
   "execution_count": null,
   "outputs": []
  },
  {
   "cell_type": "code",
   "source": [
    "# 임베딩 모델 가져오기\n",
    "from langchain_huggingface import HuggingFaceEmbeddings\n",
    "\n",
    "def get_embeddings():\n",
    "  model_name = \"BAAI/bge-m3\"\n",
    "  model_kwargs = {\"device\": \"cuda\"}\n",
    "  encode_kwargs = {\"normalize_embeddings\": True}\n",
    "  return HuggingFaceEmbeddings(model_name=model_name, model_kwargs=model_kwargs, encode_kwargs=encode_kwargs)"
   ],
   "metadata": {
    "id": "RGP7VyeYVcEE"
   },
   "execution_count": null,
   "outputs": []
  },
  {
   "cell_type": "code",
   "source": [
    "# 리트리버 가져오기\n",
    "from langchain.retrievers import EnsembleRetriever\n",
    "from langchain_community.retrievers import BM25Retriever\n",
    "from langchain_core.documents import Document\n",
    "from langchain_community.vectorstores import Chroma\n",
    "\n",
    "def get_retriever(embed_model, docs):\n",
    "  bm25 = BM25Retriever.from_documents(docs)\n",
    "  chroma = Chroma.from_documents(documents=docs, embedding=embed_model).as_retriever()\n",
    "  return EnsembleRetriever(retrievers=[bm25, chroma], weights=[0.7, 0.3], search_type=\"mmr\")"
   ],
   "metadata": {
    "id": "L_Th5lIkViFH"
   },
   "execution_count": null,
   "outputs": []
  },
  {
   "cell_type": "code",
   "source": [
    "# 서치 검색기 가져오기\n",
    "from langchain_tavily import TavilySearch\n",
    "\n",
    "def get_search_ins():\n",
    "  search_tools = TavilySearch(\n",
    "      max_results=top_k,\n",
    "      topic=\"general\",\n",
    "  )\n",
    "  return search_tools"
   ],
   "metadata": {
    "id": "ahhpH4dOVp8P"
   },
   "execution_count": null,
   "outputs": []
  },
  {
   "cell_type": "code",
   "source": [
    "from langchain_openai import ChatOpenAI\n",
    "\n",
    "# 기본 세팅\n",
    "top_k = 3\n",
    "docs = load_doc_file()\n",
    "embed_model = get_embeddings()\n",
    "retreiver = get_retriever(embed_model, docs)\n",
    "search_ins = get_search_ins()\n",
    "llm_model = ChatOpenAI(temperature=0, model=\"gpt-4o\")"
   ],
   "metadata": {
    "id": "qyhT2b6bVzE5"
   },
   "execution_count": null,
   "outputs": []
  },
  {
   "cell_type": "code",
   "source": [
    "# tools 정의\n",
    "\n",
    "## rag 결과 가져오기\n",
    "def run_retriever(query):\n",
    "  return retreiver.invoke(query)[:top_k]\n",
    "\n",
    "## 서치 결과 가져오기\n",
    "def run_search(query):\n",
    "  return search_ins.invoke({\"query\": query})\n",
    "\n",
    "tools = [\n",
    "    Tool(name=\"retriever_tool\", func=run_retriever, description=\"보험관련 질문시에 사용\"),\n",
    "    Tool(name=\"search_tool\", func=run_search, description=\"일반적인 질문시에 사용\")\n",
    "]"
   ],
   "metadata": {
    "id": "OpLs18EZV1bL"
   },
   "execution_count": null,
   "outputs": []
  },
  {
   "cell_type": "code",
   "source": [
    "# Agent 생성\n",
    "from langchain.agents import ZeroShotAgent, AgentExecutor, Tool\n",
    "from langchain.prompts import PromptTemplate\n",
    "\n",
    "## 1. 프롬프트 탬플릿\n",
    "prefix = \"\"\"당신은 다양한 도구를 사용할 수 있는 유능한 AI Agent입니다.\n",
    "사용자의 질문에 대해 도구를 적절히 선택해서 행동하거나, 직접 답변을 제공해야 합니다.\n",
    "답변은 한국어로 해주세요.\n",
    "\n",
    "항상 다음 중 하나의 형식을 따라야 합니다:\n",
    "\n",
    "- 도구가 필요할 때:\n",
    "Thought: [Your Reasoning]\n",
    "Action: [Tool Name]\n",
    "Action Input: [Input Query]\n",
    "\n",
    "- 바로 답변 가능할 때:\n",
    "Final Answer: [최종 답변]\"\"\"\n",
    "\n",
    "suffix = \"\"\"도구 리스트:\n",
    "{tools}\n",
    "\n",
    "질문: {query}\n",
    "{agent_scratchpad}\"\"\"\n",
    "\n",
    "prompt = PromptTemplate(\n",
    "    input_variables=[\"query\", \"tools\", \"agent_scratchpad\"],\n",
    "    template=prefix + \"\\n\\n\" + suffix\n",
    ")\n",
    "\n",
    "## 2. Agent 생성\n",
    "agent = ZeroShotAgent.from_llm_and_tools(llm=llm_model, tools=tools, prompt=prompt)\n",
    "agent_executor = AgentExecutor.from_agent_and_tools(\n",
    "    agent=agent,\n",
    "    tools=tools,\n",
    "    handle_parsing_errors=True,\n",
    "    verbose=True\n",
    ")\n"
   ],
   "metadata": {
    "id": "sQjeuVqyWNxj"
   },
   "execution_count": null,
   "outputs": []
  },
  {
   "cell_type": "code",
   "source": [
    "# 1. General 질문 실행 -> search_tool 사용\n",
    "answer = agent_executor.run(\"미국의 수도는 어디인가요?\")"
   ],
   "metadata": {
    "id": "9fpz6scxWk8M"
   },
   "execution_count": null,
   "outputs": []
  },
  {
   "cell_type": "code",
   "source": [
    "# 2. 보험 관련 질문 실행 -> retriever_tool 사용\n",
    "answer = agent_executor.run(\"보험 청약을 철회하고 싶어요.\")"
   ],
   "metadata": {
    "id": "fa90P1YqWmXu"
   },
   "execution_count": null,
   "outputs": []
  }
 ]
}
