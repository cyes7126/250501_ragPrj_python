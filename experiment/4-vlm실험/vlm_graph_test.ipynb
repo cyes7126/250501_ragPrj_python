{
  "nbformat": 4,
  "nbformat_minor": 0,
  "metadata": {
    "colab": {
      "provenance": [],
      "gpuType": "A100",
      "machine_shape": "hm"
    },
    "kernelspec": {
      "name": "python3",
      "display_name": "Python 3"
    },
    "language_info": {
      "name": "python"
    },
    "accelerator": "GPU"
  },
  "cells": [
    {
      "cell_type": "code",
      "source": [
        "!pip install -q torch torchvision torchaudio --index-url https://download.pytorch.org/whl/cu118\n",
        "!pip install easyocr\n",
        "!pip install langgraph langchain langchain_huggingface langchain_openai langchain_community"
      ],
      "metadata": {
        "id": "Ud0GUmpdltwn",
        "colab": {
          "base_uri": "https://localhost:8080/"
        },
        "outputId": "55db0c80-71dd-4647-af58-89ad2bad36d2"
      },
      "execution_count": 1,
      "outputs": [
        {
          "output_type": "stream",
          "name": "stdout",
          "text": [
            "Requirement already satisfied: easyocr in /usr/local/lib/python3.11/dist-packages (1.7.2)\n",
            "Requirement already satisfied: torch in /usr/local/lib/python3.11/dist-packages (from easyocr) (2.6.0+cu124)\n",
            "Requirement already satisfied: torchvision>=0.5 in /usr/local/lib/python3.11/dist-packages (from easyocr) (0.21.0+cu124)\n",
            "Requirement already satisfied: opencv-python-headless in /usr/local/lib/python3.11/dist-packages (from easyocr) (4.11.0.86)\n",
            "Requirement already satisfied: scipy in /usr/local/lib/python3.11/dist-packages (from easyocr) (1.15.3)\n",
            "Requirement already satisfied: numpy in /usr/local/lib/python3.11/dist-packages (from easyocr) (2.0.2)\n",
            "Requirement already satisfied: Pillow in /usr/local/lib/python3.11/dist-packages (from easyocr) (11.2.1)\n",
            "Requirement already satisfied: scikit-image in /usr/local/lib/python3.11/dist-packages (from easyocr) (0.25.2)\n",
            "Requirement already satisfied: python-bidi in /usr/local/lib/python3.11/dist-packages (from easyocr) (0.6.6)\n",
            "Requirement already satisfied: PyYAML in /usr/local/lib/python3.11/dist-packages (from easyocr) (6.0.2)\n",
            "Requirement already satisfied: Shapely in /usr/local/lib/python3.11/dist-packages (from easyocr) (2.1.1)\n",
            "Requirement already satisfied: pyclipper in /usr/local/lib/python3.11/dist-packages (from easyocr) (1.3.0.post6)\n",
            "Requirement already satisfied: ninja in /usr/local/lib/python3.11/dist-packages (from easyocr) (1.11.1.4)\n",
            "Requirement already satisfied: filelock in /usr/local/lib/python3.11/dist-packages (from torch->easyocr) (3.18.0)\n",
            "Requirement already satisfied: typing-extensions>=4.10.0 in /usr/local/lib/python3.11/dist-packages (from torch->easyocr) (4.14.0)\n",
            "Requirement already satisfied: networkx in /usr/local/lib/python3.11/dist-packages (from torch->easyocr) (3.5)\n",
            "Requirement already satisfied: jinja2 in /usr/local/lib/python3.11/dist-packages (from torch->easyocr) (3.1.6)\n",
            "Requirement already satisfied: fsspec in /usr/local/lib/python3.11/dist-packages (from torch->easyocr) (2025.3.2)\n",
            "Requirement already satisfied: nvidia-cuda-nvrtc-cu12==12.4.127 in /usr/local/lib/python3.11/dist-packages (from torch->easyocr) (12.4.127)\n",
            "Requirement already satisfied: nvidia-cuda-runtime-cu12==12.4.127 in /usr/local/lib/python3.11/dist-packages (from torch->easyocr) (12.4.127)\n",
            "Requirement already satisfied: nvidia-cuda-cupti-cu12==12.4.127 in /usr/local/lib/python3.11/dist-packages (from torch->easyocr) (12.4.127)\n",
            "Requirement already satisfied: nvidia-cudnn-cu12==9.1.0.70 in /usr/local/lib/python3.11/dist-packages (from torch->easyocr) (9.1.0.70)\n",
            "Requirement already satisfied: nvidia-cublas-cu12==12.4.5.8 in /usr/local/lib/python3.11/dist-packages (from torch->easyocr) (12.4.5.8)\n",
            "Requirement already satisfied: nvidia-cufft-cu12==11.2.1.3 in /usr/local/lib/python3.11/dist-packages (from torch->easyocr) (11.2.1.3)\n",
            "Requirement already satisfied: nvidia-curand-cu12==10.3.5.147 in /usr/local/lib/python3.11/dist-packages (from torch->easyocr) (10.3.5.147)\n",
            "Requirement already satisfied: nvidia-cusolver-cu12==11.6.1.9 in /usr/local/lib/python3.11/dist-packages (from torch->easyocr) (11.6.1.9)\n",
            "Requirement already satisfied: nvidia-cusparse-cu12==12.3.1.170 in /usr/local/lib/python3.11/dist-packages (from torch->easyocr) (12.3.1.170)\n",
            "Requirement already satisfied: nvidia-cusparselt-cu12==0.6.2 in /usr/local/lib/python3.11/dist-packages (from torch->easyocr) (0.6.2)\n",
            "Requirement already satisfied: nvidia-nccl-cu12==2.21.5 in /usr/local/lib/python3.11/dist-packages (from torch->easyocr) (2.21.5)\n",
            "Requirement already satisfied: nvidia-nvtx-cu12==12.4.127 in /usr/local/lib/python3.11/dist-packages (from torch->easyocr) (12.4.127)\n",
            "Requirement already satisfied: nvidia-nvjitlink-cu12==12.4.127 in /usr/local/lib/python3.11/dist-packages (from torch->easyocr) (12.4.127)\n",
            "Requirement already satisfied: triton==3.2.0 in /usr/local/lib/python3.11/dist-packages (from torch->easyocr) (3.2.0)\n",
            "Requirement already satisfied: sympy==1.13.1 in /usr/local/lib/python3.11/dist-packages (from torch->easyocr) (1.13.1)\n",
            "Requirement already satisfied: mpmath<1.4,>=1.1.0 in /usr/local/lib/python3.11/dist-packages (from sympy==1.13.1->torch->easyocr) (1.3.0)\n",
            "Requirement already satisfied: imageio!=2.35.0,>=2.33 in /usr/local/lib/python3.11/dist-packages (from scikit-image->easyocr) (2.37.0)\n",
            "Requirement already satisfied: tifffile>=2022.8.12 in /usr/local/lib/python3.11/dist-packages (from scikit-image->easyocr) (2025.6.1)\n",
            "Requirement already satisfied: packaging>=21 in /usr/local/lib/python3.11/dist-packages (from scikit-image->easyocr) (24.2)\n",
            "Requirement already satisfied: lazy-loader>=0.4 in /usr/local/lib/python3.11/dist-packages (from scikit-image->easyocr) (0.4)\n",
            "Requirement already satisfied: MarkupSafe>=2.0 in /usr/local/lib/python3.11/dist-packages (from jinja2->torch->easyocr) (3.0.2)\n"
          ]
        }
      ]
    },
    {
      "cell_type": "markdown",
      "source": [],
      "metadata": {
        "id": "5nn4s9R8rNkz"
      }
    },
    {
      "cell_type": "code",
      "source": [
        "import os\n",
        "\n",
        "# 1. colab에서 실행할 경우)\n",
        "\n",
        "## 구글 드라이브 마운트\n",
        "from google.colab import drive\n",
        "drive.mount('/content/drive')\n",
        "base_path = '/content/drive/MyDrive/Projects'\n",
        "\n",
        "## 이미지 경로\n",
        "imagepath_has_text = f'{base_path}/vlm실험/images/면세점지원사업.jpg'\n",
        "imagepath_no_text = f'{base_path}/vlm실험/images/자전거탄사람.jpg'\n",
        "\n",
        "env = f'{base_path}/comm/.env'"
      ],
      "metadata": {
        "colab": {
          "base_uri": "https://localhost:8080/"
        },
        "id": "lnAMLnrVjoBR",
        "outputId": "0aa94c34-d714-4f54-9e11-1f372db4fd12"
      },
      "execution_count": 41,
      "outputs": [
        {
          "output_type": "stream",
          "name": "stdout",
          "text": [
            "Drive already mounted at /content/drive; to attempt to forcibly remount, call drive.mount(\"/content/drive\", force_remount=True).\n"
          ]
        }
      ]
    },
    {
      "cell_type": "code",
      "source": [
        "'''\n",
        "# 2. local에서 실행할 경우\n",
        "\n",
        "base_path = './'\n",
        "\n",
        "## 문서경로\n",
        "image_has_text = f'{base_path}/vlm실험/images/면세점지원사업.pdf'\n",
        "image_no_text = f'{base_path}/vlm실험/images/자전거탄사람.pdf'\n",
        "\n",
        "env = f'{base_path}/../../comm/.env'\n",
        "'''"
      ],
      "metadata": {
        "colab": {
          "base_uri": "https://localhost:8080/",
          "height": 55
        },
        "id": "FGvi2oJ2j9c8",
        "outputId": "89089a72-c553-4080-b84f-61aca727fbe4"
      },
      "execution_count": null,
      "outputs": [
        {
          "output_type": "execute_result",
          "data": {
            "text/plain": [
              "\"\\n# 2. local에서 실행할 경우\\n\\nbase_path = './'\\n\\n## 문서경로\\nimage_has_text = f'{base_path}/vlm실험/images/면세점지원사업.pdf'\\nimage_no_text = f'{base_path}/vlm실험/images/자전거탄사람.pdf'\\n\\nenv = f'{base_path}/../../comm/.env'\\n\""
            ],
            "application/vnd.google.colaboratory.intrinsic+json": {
              "type": "string"
            }
          },
          "metadata": {},
          "execution_count": 2
        }
      ]
    },
    {
      "cell_type": "code",
      "source": [
        "# env 설정\n",
        "from dotenv import load_dotenv\n",
        "load_dotenv(env)"
      ],
      "metadata": {
        "colab": {
          "base_uri": "https://localhost:8080/"
        },
        "id": "04vXHaXRbq3U",
        "outputId": "1deb991f-e92b-4fdd-d1b5-fbc53887601b"
      },
      "execution_count": 8,
      "outputs": [
        {
          "output_type": "execute_result",
          "data": {
            "text/plain": [
              "True"
            ]
          },
          "metadata": {},
          "execution_count": 8
        }
      ]
    },
    {
      "cell_type": "code",
      "source": [
        "# LLM 설정\n",
        "from langchain_openai import ChatOpenAI\n",
        "llm = ChatOpenAI(temperature=0)"
      ],
      "metadata": {
        "id": "cpFMx5YGbVau"
      },
      "execution_count": 23,
      "outputs": []
    },
    {
      "cell_type": "code",
      "source": [
        "# 프롬프트 설정\n",
        "from langchain.prompts import PromptTemplate\n",
        "prompt_str = \"\"\"\n",
        "  당신은 친절한 상담사입니다.\n",
        "\n",
        "  만약 첨부된 이미지 정보가 있다면,\n",
        "  첨부된 이미지를 기준으로 답변하세요.\n",
        "\n",
        "  #이미지 정보\n",
        "  {image_info}\n",
        "\n",
        "  #사용자 질문\n",
        "  {query}\n",
        "\"\"\"\n",
        "prompt = PromptTemplate(\n",
        "    template=prompt_str,\n",
        "    input_varialbes=[\"image_info\", \"query\"]\n",
        ")"
      ],
      "metadata": {
        "id": "GHzAHohr848r"
      },
      "execution_count": null,
      "outputs": []
    },
    {
      "cell_type": "code",
      "source": [
        "# VLM 모델 설정\n",
        "from transformers import BlipProcessor, BlipForConditionalGeneration\n",
        "processor = BlipProcessor.from_pretrained(\"Salesforce/blip-image-captioning-base\")\n",
        "model = BlipForConditionalGeneration.from_pretrained(\"Salesforce/blip-image-captioning-base\")"
      ],
      "metadata": {
        "id": "dfapAF0G8yVC"
      },
      "execution_count": null,
      "outputs": []
    },
    {
      "cell_type": "code",
      "source": [
        "# 그래프 설정\n",
        "from typing import Literal, Optional, TypedDict\n",
        "from langgraph.graph import StateGraph, END, START"
      ],
      "metadata": {
        "id": "mQgGDjrkZWFk"
      },
      "execution_count": 24,
      "outputs": []
    },
    {
      "cell_type": "code",
      "source": [
        "# 서비스 상태\n",
        "class State(TypedDict):\n",
        "  query: str # 사용자 질문\n",
        "  image_file_path: Optional[str] # 업로드 이미지\n",
        "  image_ocr_text: Optional[str] # 이미지 텍스트\n",
        "  image_blip_caption: Optional[str] # 이미지 blip 캡션\n",
        "  response: Optional[str] # 최종 응답값"
      ],
      "metadata": {
        "id": "9nNCbV8_deeK"
      },
      "execution_count": 86,
      "outputs": []
    },
    {
      "cell_type": "code",
      "source": [
        "# 노드 정의\n",
        "## 노드1: 이미지에서 OCR로 텍스트 추출\n",
        "import easyocr\n",
        "\n",
        "def extract_ocr_text(state: State):\n",
        "  print(\"node - extract_ocr_text\")\n",
        "  reader = easyocr.Reader(['ko', 'en'], gpu=True)\n",
        "  get_text = []\n",
        "  result = reader.readtext(state[\"image_file_path\"])\n",
        "\n",
        "  # 텍스트가 없는 경우\n",
        "  if not result:\n",
        "    return {\"image_ocr_text\": \"\"}\n",
        "\n",
        "  for detection in result:\n",
        "    get_text.append(detection[1].strip())\n",
        "  return {\"image_ocr_text\": \"\\n\".join(get_text)}"
      ],
      "metadata": {
        "id": "Jcss-1_8gH6J"
      },
      "execution_count": 74,
      "outputs": []
    },
    {
      "cell_type": "code",
      "execution_count": 75,
      "metadata": {
        "id": "hvjaPZ-RisWi"
      },
      "outputs": [],
      "source": [
        "## 노드2: VLM-BLIP 모델 실행\n",
        "from PIL import Image as pilImage\n",
        "def get_blip_caption(state: State):\n",
        "  print(\"node - get_blip_caption\")\n",
        "\n",
        "  ## 이미지 처리\n",
        "  image = pilImage.open(state[\"image_file_path\"])\n",
        "  inputs = processor(image, return_tensors=\"pt\")\n",
        "\n",
        "  ## 이미지 캡셔닝\n",
        "  output = model.generate(**inputs)\n",
        "  caption = processor.decode(output[0], skip_special_tokens=True)\n",
        "  return {\"image_blip_caption\": caption}"
      ]
    },
    {
      "cell_type": "code",
      "source": [
        "## 노드3: 최종프롬프트를 LLM에 전달\n",
        "def generate_response(state: State):\n",
        "  print(\"node - generate_response\")\n",
        "\n",
        "  # 이미지 정보\n",
        "  image_info = \"정보 없음\"\n",
        "  if state[\"image_blip_caption\"] is not None:\n",
        "    image_info = state[\"image_blip_caption\"]\n",
        "  elif state[\"image_ocr_text\"] is not None:\n",
        "    image_info = state[\"image_ocr_text\"]\n",
        "\n",
        "  # 프롬프트 생성\n",
        "  formatted_prompt = prompt.format(\n",
        "      image_info=image_info,\n",
        "      query=state[\"query\"]\n",
        "  )\n",
        "\n",
        "  # llm 실행\n",
        "  response = llm.invoke(formatted_prompt)\n",
        "  content = response.content if hasattr(response, \"content\") else str(response)\n",
        "  return {\"response\": content}"
      ],
      "metadata": {
        "id": "f5x9FpXKmkhJ"
      },
      "execution_count": 87,
      "outputs": []
    },
    {
      "cell_type": "code",
      "source": [],
      "metadata": {
        "id": "MLOnNpTlm9EC"
      },
      "execution_count": 88,
      "outputs": []
    },
    {
      "cell_type": "code",
      "source": [
        "# 조건부 엣지 정의\n",
        "## 엣지1: 요청이 텍스트인지 확인\n",
        "def check_input_type(state: State):\n",
        "  if state[\"image_file_path\"] is None:\n",
        "    return \"text_input\"\n",
        "  if os.path.isfile(state[\"image_file_path\"]):\n",
        "    return \"image_input\"\n",
        "  raise FileNotFoundError(f'파일이 존재하지 않습니다: {state[\"image_file_path\"]}')"
      ],
      "metadata": {
        "id": "tqPELVKfhcpP"
      },
      "execution_count": 89,
      "outputs": []
    },
    {
      "cell_type": "code",
      "source": [
        "# OCR 텍스트의 최소 길이\n",
        "ocr_min_text_length = 20\n",
        "\n",
        "## 엣지2: OCR텍스트 길이 판단후 VLM 전달 여부\n",
        "def is_short_ocr_text(state: State):\n",
        "  if state[\"image_ocr_text\"] is None or len(state[\"image_ocr_text\"]) < ocr_min_text_length:\n",
        "    return \"short_ocr_text\"\n",
        "  return \"long_ocr_text\""
      ],
      "metadata": {
        "id": "zfO15Ii3iDzL"
      },
      "execution_count": 91,
      "outputs": []
    },
    {
      "cell_type": "code",
      "source": [
        "# 그래프 생성\n",
        "graph = StateGraph(State)\n",
        "\n",
        "# 노드추가\n",
        "graph.add_node(\"extract_ocr_text\", extract_ocr_text)\n",
        "graph.add_node(\"get_blip_caption\", get_blip_caption)\n",
        "graph.add_node(\"generate_response\", generate_response)\n",
        "\n",
        "# 엣지연결\n",
        "graph.add_conditional_edges(\n",
        "  START,\n",
        "  check_input_type,\n",
        "  {\n",
        "    \"text_input\": \"generate_response\",\n",
        "    \"image_input\": \"extract_ocr_text\"\n",
        "  }\n",
        ")\n",
        "graph.add_conditional_edges(\n",
        "  \"extract_ocr_text\",\n",
        "  is_short_ocr_text,\n",
        "  {\n",
        "    \"short_ocr_text\": \"get_blip_caption\",\n",
        "    \"long_ocr_text\": \"generate_response\"\n",
        "  }\n",
        ")\n",
        "graph.add_edge(\"get_blip_caption\", \"generate_response\")\n",
        "graph.add_edge(\"generate_response\", END)"
      ],
      "metadata": {
        "colab": {
          "base_uri": "https://localhost:8080/"
        },
        "id": "Zm5i5769lhvq",
        "outputId": "40a8972f-d6c9-426b-ca22-8887411d18a1"
      },
      "execution_count": 92,
      "outputs": [
        {
          "output_type": "execute_result",
          "data": {
            "text/plain": [
              "<langgraph.graph.state.StateGraph at 0x7e1876cbded0>"
            ]
          },
          "metadata": {},
          "execution_count": 92
        }
      ]
    },
    {
      "cell_type": "code",
      "source": [
        "builder = graph.compile()"
      ],
      "metadata": {
        "id": "StB_f8k1uhB_"
      },
      "execution_count": 93,
      "outputs": []
    },
    {
      "cell_type": "code",
      "source": [
        "# 그래프 시각화\n",
        "from IPython.display import Image, display\n",
        "display(Image(builder.get_graph().draw_mermaid_png()))"
      ],
      "metadata": {
        "colab": {
          "base_uri": "https://localhost:8080/",
          "height": 497
        },
        "id": "c2hMVK3IwKFm",
        "outputId": "b72a74e4-ea6f-44a8-e232-49777ec46c01"
      },
      "execution_count": 94,
      "outputs": [
        {
          "output_type": "display_data",
          "data": {
            "image/png": "[encoded data removed]",
            "text/plain": [
              "<IPython.core.display.Image object>"
            ]
          },
          "metadata": {}
        }
      ]
    },
    {
      "cell_type": "code",
      "source": [
        "# 텍스트 없는 이미지 업로드 경우\n",
        "## 초기 상태 정의\n",
        "no_text_state = State(\n",
        "  query=\"자전거를 탄 사람은 몇명입니까?\",\n",
        "  image_file_path=imagepath_no_text,\n",
        "  image_ocr_text=None,\n",
        "  image_blip_caption=None,\n",
        "  response=None\n",
        ")\n",
        "\n",
        "## 실행\n",
        "no_text_response = builder.invoke(no_text_state)\n",
        "print(\"no_text_response\", no_text_response)"
      ],
      "metadata": {
        "colab": {
          "base_uri": "https://localhost:8080/"
        },
        "id": "u1nfaqlBumuJ",
        "outputId": "580f463c-0a24-4831-ac80-b6731bda8802"
      },
      "execution_count": 96,
      "outputs": [
        {
          "output_type": "stream",
          "name": "stdout",
          "text": [
            "node - extract_ocr_text\n",
            "node - get_blip_caption\n",
            "node - generate_response\n",
            "no_text_response {'query': '자전거를 탄 사람은 몇명입니까?', 'image_file_path': '/content/drive/MyDrive/Projects/vlm실험/images/자전거탄사람.jpg', 'image_ocr_text': '', 'image_blip_caption': 'two people riding bikes down a street', 'response': '이미지에는 두 명의 사람이 자전거를 타고 거리를 따라 이동하고 있는 것으로 보입니다. 따라서 자전거를 탄 사람은 두 명입니다.'}\n"
          ]
        }
      ]
    },
    {
      "cell_type": "code",
      "source": [
        "# 텍스트 있는 이미지 업로드 경우\n",
        "## 초기 상태 정의\n",
        "has_text_state = State(\n",
        "  query=\"문의처를 알려주세요.\",\n",
        "  image_file_path=imagepath_has_text,\n",
        "  image_ocr_text=None,\n",
        "  image_blip_caption=None,\n",
        "  response=None\n",
        ")\n",
        "\n",
        "## 실행\n",
        "has_text_response = builder.invoke(has_text_state)\n",
        "print(\"has_text_response\", has_text_response)"
      ],
      "metadata": {
        "colab": {
          "base_uri": "https://localhost:8080/"
        },
        "id": "LPbOyV9334f2",
        "outputId": "b6b3a35c-d425-4a41-cd83-4a3fc9cbf51d"
      },
      "execution_count": 98,
      "outputs": [
        {
          "output_type": "stream",
          "name": "stdout",
          "text": [
            "node - extract_ocr_text\n",
            "node - generate_response\n",
            "has_text_response {'query': '문의처를 알려주세요.', 'image_file_path': '/content/drive/MyDrive/Projects/vlm실험/images/면세점지원사업.jpg', 'image_ocr_text': 'sba 서울경제진흥원\\n20259\\n물내해외 [점 진출 죄원업\\n해외 일본 공항면세점 입점\\n지원기업 모집\\n모집기간\\n2025.5.22. (목) ~ 6. 5. (목)\\n모집 개요\\n모집대상: 자사 브랜드틀 보유한 서울시 중소기업 m본사 지사 연구소등 서울소재필수\\n모집규모: 20개사 내외\\n모집품목: 화장품 품목 기반 분티 카테고리\\n신청방법: SBA 흉페이지(sba.seoul.kr) 내 온라인 신청\\n신청기간: 25.5. 22 (목)\\n6.5.(목) 17:00까지\\n온라인 사업설명회: 25.5. 30 (금) 14시 예정\\n참여 방법: 공고문 내 캐치시규 품을 통한 신청\\n지원 내용\\n일본 하네다 공항면세점 내 SBA 기획관 입점 및 운영 지원\\n현지 상황에 따라 나리타 공항면세점 간사이 공항면세점 등으로 입점 위치가 변경월 수 있습니다.\\n입점 기념 사은품 증정행사 한정판 제품 판매 SNS 활용 마켓팅 등\\n현지 특화 프로모선 지원\\n입점 운영을 위한 물류비 지원 후생성 등록 및 인종 제품 라빌렁 등 현지화 지원\\n문의처: 02-2657-5706\\ninnuy@sba.seoulkr\\n02-2657-5803\\npromotion_lee@sbaseoulkr\\n육의사항 등의 세부 내용은 하단의 모집 공고문 참조 바람니다', 'image_blip_caption': None, 'response': '문의처는 다음과 같습니다:\\n전화번호: 02-2657-5706\\n이메일: innuy@sba.seoul.kr\\n팩스번호: 02-2657-5803\\n이메일: promotion_lee@sba.seoul.kr\\n\\n더 자세한 내용은 하단의 모집 공고문을 참조하시기 바랍니다.'}\n"
          ]
        }
      ]
    },
    {
      "cell_type": "code",
      "source": [
        "# 이미지 업로드가 없는 경우\n",
        "# 초기 상태 정의\n",
        "only_text_state = State(\n",
        "  query=\"문의처를 알려주세요.\",\n",
        "  image_file_path=None,\n",
        "  image_ocr_text=None,\n",
        "  image_blip_caption=None,\n",
        "  response=None\n",
        ")\n",
        "\n",
        "# 실행\n",
        "only_text_response = builder.invoke(only_text_state)\n",
        "print(\"only_text_response\", only_text_response)"
      ],
      "metadata": {
        "colab": {
          "base_uri": "https://localhost:8080/"
        },
        "id": "kp3UsmvH6D6V",
        "outputId": "f4e76bbe-fc8e-452e-cc6e-1041eadd26cb"
      },
      "execution_count": 99,
      "outputs": [
        {
          "output_type": "stream",
          "name": "stdout",
          "text": [
            "node - generate_response\n",
            "only_text_response {'query': '문의처를 알려주세요.', 'image_file_path': None, 'image_ocr_text': None, 'image_blip_caption': None, 'response': '안녕하세요! 문의해 주셔서 감사합니다. 문의처는 저희 회사의 고객센터로 연락 주시면 도움을 드릴 수 있습니다. 고객센터 전화번호는 02-1234-5678이며 이메일은 help@company.com입니다. 언제든지 문의 주시면 친절히 안내해 드리겠습니다. 추가로 궁금한 사항이 있으시면 언제든지 물어보세요!'}\n"
          ]
        }
      ]
    }
  ]
}